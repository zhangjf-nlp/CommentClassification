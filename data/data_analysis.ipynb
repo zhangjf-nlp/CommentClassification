{
 "cells": [
  {
   "cell_type": "code",
   "execution_count": null,
   "id": "097ad9d3-11c1-466b-9494-967f364d7184",
   "metadata": {},
   "outputs": [],
   "source": [
    "file_path = \"./MLHomework_Toxicity/train_origin.csv\"\n",
    "import pandas as pd\n",
    "file = pd.read_csv(file_path)\n",
    "df = pd.DataFrame(file)"
   ]
  },
  {
   "cell_type": "code",
   "execution_count": 2,
   "id": "d2da87db-4f85-4bb0-aa92-3242ba7d19cd",
   "metadata": {},
   "outputs": [],
   "source": [
    "from transformers import BertTokenizer\n",
    "tokenizer = BertTokenizer.from_pretrained(\"bert-base-uncased\")"
   ]
  },
  {
   "cell_type": "code",
   "execution_count": null,
   "id": "5924196f-6c6d-4f35-b042-9a73b768589f",
   "metadata": {
    "scrolled": true,
    "tags": []
   },
   "outputs": [
    {
     "name": "stderr",
     "output_type": "stream",
     "text": [
      " 51%|█████     | 902355/1777800 [17:48<19:11, 760.43it/s] "
     ]
    }
   ],
   "source": [
    "from tqdm import tqdm\n",
    "from collections import defaultdict\n",
    "length_to_target = defaultdict(list)\n",
    "length_to_num_cases = defaultdict(int)\n",
    "for i in tqdm(range(df.shape[0])):\n",
    "    text, target = df.loc[i]['comment_text'], df.loc[i]['target']\n",
    "    length = len(tokenizer.tokenize(text))\n",
    "    length_to_target[length].append(target)\n",
    "    length_to_num_cases[length] += 1"
   ]
  },
  {
   "cell_type": "code",
   "execution_count": null,
   "id": "39605167-38f4-4787-8d78-5e42799aef66",
   "metadata": {},
   "outputs": [],
   "source": [
    "length_to_mean = {length:np.mean(length_to_target[length]) for length in length_to_target}\n",
    "length_to_std = {length:np.std(length_to_target[length]) for length in length_to_target}"
   ]
  },
  {
   "cell_type": "code",
   "execution_count": null,
   "id": "839db705-a3ea-4025-a375-3a8dd1f8eeae",
   "metadata": {},
   "outputs": [],
   "source": [
    "x = list(range(300))\n",
    "total_num_cases = sum([length_to_target[length] for length in length_to_target])\n",
    "num_cases = [length_to_target[length] for length in x]\n",
    "mean = [length_to_mean[length] for length in x]\n",
    "std = [length_to_std[length] for length in x]"
   ]
  },
  {
   "cell_type": "code",
   "execution_count": null,
   "id": "ec05bb4e-1ffa-4338-ad4e-1151d278d67f",
   "metadata": {},
   "outputs": [],
   "source": [
    "import matplotlib.pyplot as plt\n",
    "plt.plot(x, num_cases)\n",
    "plt.xlabel(\"length of text\")\n",
    "plt.ylabel(\"number of text\")\n",
    "plt.savefig(\"trainset-PDF.png\")"
   ]
  },
  {
   "cell_type": "code",
   "execution_count": null,
   "id": "ce11d086-03fd-4902-98b4-bd0d16a660f4",
   "metadata": {},
   "outputs": [],
   "source": [
    "plt.plot(x, 100*num_cases / total_num_cases)\n",
    "plt.xlabel(\"length of text\")\n",
    "plt.ylabel(\"cumulative proportion of text / %\")\n",
    "plt.savefig(\"trainset-CDF.png\")"
   ]
  },
  {
   "cell_type": "code",
   "execution_count": null,
   "id": "d5a8c0bd-dcff-4c98-b2ae-f5fb326ca61e",
   "metadata": {},
   "outputs": [],
   "source": [
    "mean, std = np.array(mean), np.array(std)\n",
    "plt.plot(x, mean, color=\"blue\")\n",
    "plt.plot(x, mean+std, color=\"green\", linestyle='dashed')\n",
    "plt.plot(x, mean-std, color=\"green\", linestyle='dashed')\n",
    "plt.xlabel(\"length of text\")\n",
    "plt.ylabel(\"target distribution of text\")\n",
    "plt.savefig(\"trainset-target-distribution.png\")"
   ]
  },
  {
   "cell_type": "code",
   "execution_count": null,
   "id": "94321e5a-a920-4fa0-915d-72d69f8ea6ee",
   "metadata": {},
   "outputs": [],
   "source": []
  }
 ],
 "metadata": {
  "kernelspec": {
   "display_name": "Python 3",
   "language": "python",
   "name": "python3"
  },
  "language_info": {
   "codemirror_mode": {
    "name": "ipython",
    "version": 3
   },
   "file_extension": ".py",
   "mimetype": "text/x-python",
   "name": "python",
   "nbconvert_exporter": "python",
   "pygments_lexer": "ipython3",
   "version": "3.8.8"
  }
 },
 "nbformat": 4,
 "nbformat_minor": 5
}

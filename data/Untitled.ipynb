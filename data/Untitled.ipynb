{
 "cells": [
  {
   "cell_type": "code",
   "execution_count": 1,
   "id": "097ad9d3-11c1-466b-9494-967f364d7184",
   "metadata": {},
   "outputs": [],
   "source": [
    "file_path = \"./MLHomework_Toxicity/train_origin.csv\"\n",
    "import pandas as pd\n",
    "file = pd.read_csv(file_path)\n",
    "df = pd.DataFrame(file)"
   ]
  },
  {
   "cell_type": "code",
   "execution_count": 3,
   "id": "e584e8ae-ac21-445c-9288-345df8a2d695",
   "metadata": {},
   "outputs": [
    {
     "data": {
      "text/html": [
       "<div>\n",
       "<style scoped>\n",
       "    .dataframe tbody tr th:only-of-type {\n",
       "        vertical-align: middle;\n",
       "    }\n",
       "\n",
       "    .dataframe tbody tr th {\n",
       "        vertical-align: top;\n",
       "    }\n",
       "\n",
       "    .dataframe thead th {\n",
       "        text-align: right;\n",
       "    }\n",
       "</style>\n",
       "<table border=\"1\" class=\"dataframe\">\n",
       "  <thead>\n",
       "    <tr style=\"text-align: right;\">\n",
       "      <th></th>\n",
       "      <th>id</th>\n",
       "      <th>comment_text</th>\n",
       "      <th>target</th>\n",
       "    </tr>\n",
       "  </thead>\n",
       "  <tbody>\n",
       "    <tr>\n",
       "      <th>0</th>\n",
       "      <td>5413656</td>\n",
       "      <td>???...You trying to hard...#MAGA</td>\n",
       "      <td>0.000000</td>\n",
       "    </tr>\n",
       "    <tr>\n",
       "      <th>1</th>\n",
       "      <td>267023</td>\n",
       "      <td>I am not speaking for myself. I pay for my own...</td>\n",
       "      <td>0.166667</td>\n",
       "    </tr>\n",
       "    <tr>\n",
       "      <th>2</th>\n",
       "      <td>5092377</td>\n",
       "      <td>bank of hawaii, first hawaiian bank, most land...</td>\n",
       "      <td>0.000000</td>\n",
       "    </tr>\n",
       "    <tr>\n",
       "      <th>3</th>\n",
       "      <td>723958</td>\n",
       "      <td>\"Trump on Friday night vowed to seek approval ...</td>\n",
       "      <td>0.000000</td>\n",
       "    </tr>\n",
       "    <tr>\n",
       "      <th>4</th>\n",
       "      <td>5571767</td>\n",
       "      <td>Right...so if the headlines instead read \"Clin...</td>\n",
       "      <td>0.000000</td>\n",
       "    </tr>\n",
       "    <tr>\n",
       "      <th>...</th>\n",
       "      <td>...</td>\n",
       "      <td>...</td>\n",
       "      <td>...</td>\n",
       "    </tr>\n",
       "    <tr>\n",
       "      <th>1777795</th>\n",
       "      <td>6252077</td>\n",
       "      <td>Your flip-flops are in the mail Billy!</td>\n",
       "      <td>0.000000</td>\n",
       "    </tr>\n",
       "    <tr>\n",
       "      <th>1777796</th>\n",
       "      <td>5358958</td>\n",
       "      <td>When I taught C language computer programming,...</td>\n",
       "      <td>0.000000</td>\n",
       "    </tr>\n",
       "    <tr>\n",
       "      <th>1777797</th>\n",
       "      <td>5287987</td>\n",
       "      <td>Trudeau justified by lying &amp; saying they were ...</td>\n",
       "      <td>0.200000</td>\n",
       "    </tr>\n",
       "    <tr>\n",
       "      <th>1777798</th>\n",
       "      <td>5129035</td>\n",
       "      <td>So i really want you to think about what you a...</td>\n",
       "      <td>0.000000</td>\n",
       "    </tr>\n",
       "    <tr>\n",
       "      <th>1777799</th>\n",
       "      <td>5601683</td>\n",
       "      <td>When they stop having NASCAR then I will belie...</td>\n",
       "      <td>0.000000</td>\n",
       "    </tr>\n",
       "  </tbody>\n",
       "</table>\n",
       "<p>1777800 rows × 3 columns</p>\n",
       "</div>"
      ],
      "text/plain": [
       "              id                                       comment_text    target\n",
       "0        5413656                   ???...You trying to hard...#MAGA  0.000000\n",
       "1         267023  I am not speaking for myself. I pay for my own...  0.166667\n",
       "2        5092377  bank of hawaii, first hawaiian bank, most land...  0.000000\n",
       "3         723958  \"Trump on Friday night vowed to seek approval ...  0.000000\n",
       "4        5571767  Right...so if the headlines instead read \"Clin...  0.000000\n",
       "...          ...                                                ...       ...\n",
       "1777795  6252077             Your flip-flops are in the mail Billy!  0.000000\n",
       "1777796  5358958  When I taught C language computer programming,...  0.000000\n",
       "1777797  5287987  Trudeau justified by lying & saying they were ...  0.200000\n",
       "1777798  5129035  So i really want you to think about what you a...  0.000000\n",
       "1777799  5601683  When they stop having NASCAR then I will belie...  0.000000\n",
       "\n",
       "[1777800 rows x 3 columns]"
      ]
     },
     "execution_count": 3,
     "metadata": {},
     "output_type": "execute_result"
    }
   ],
   "source": [
    "df"
   ]
  },
  {
   "cell_type": "code",
   "execution_count": 2,
   "id": "d536384e-023a-4732-924c-c9b0ad7e1ff3",
   "metadata": {},
   "outputs": [],
   "source": [
    "file_path = \"./MLHomework_Toxicity/train_extra.csv\"\n",
    "import pandas as pd\n",
    "df = pd.DataFrame(pd.read_csv(file_path))"
   ]
  },
  {
   "cell_type": "code",
   "execution_count": null,
   "id": "601a6291-25eb-4bd4-8db3-a47643b4a2a0",
   "metadata": {},
   "outputs": [],
   "source": []
  },
  {
   "cell_type": "code",
   "execution_count": null,
   "id": "9dbeb926-3983-404c-a0dd-249be741c34c",
   "metadata": {},
   "outputs": [],
   "source": []
  },
  {
   "cell_type": "code",
   "execution_count": 152,
   "id": "ae08f7b9-a22f-4ab6-8ce9-12e7675773d4",
   "metadata": {},
   "outputs": [],
   "source": [
    "test_index = np.random.choice(range(df.shape[0]), int(df.shape[0] * 0.1), replace=False)"
   ]
  },
  {
   "cell_type": "code",
   "execution_count": 158,
   "id": "3b266366-5db2-4ec8-8741-95bd2c7911fa",
   "metadata": {},
   "outputs": [],
   "source": [
    "train_index = [i for i in range(df.shape[0]) if i not in test_index]"
   ]
  },
  {
   "cell_type": "code",
   "execution_count": 156,
   "id": "efee86ef-d541-44e8-8ce6-c446618ed7c6",
   "metadata": {},
   "outputs": [],
   "source": [
    "df_test = df.loc[sorted(test_index)]"
   ]
  },
  {
   "cell_type": "code",
   "execution_count": 157,
   "id": "f2bb6b31-c406-47e5-b664-5fe81b449880",
   "metadata": {},
   "outputs": [
    {
     "data": {
      "text/html": [
       "<div>\n",
       "<style scoped>\n",
       "    .dataframe tbody tr th:only-of-type {\n",
       "        vertical-align: middle;\n",
       "    }\n",
       "\n",
       "    .dataframe tbody tr th {\n",
       "        vertical-align: top;\n",
       "    }\n",
       "\n",
       "    .dataframe thead th {\n",
       "        text-align: right;\n",
       "    }\n",
       "</style>\n",
       "<table border=\"1\" class=\"dataframe\">\n",
       "  <thead>\n",
       "    <tr style=\"text-align: right;\">\n",
       "      <th></th>\n",
       "      <th>id</th>\n",
       "      <th>comment_text</th>\n",
       "      <th>target</th>\n",
       "    </tr>\n",
       "  </thead>\n",
       "  <tbody>\n",
       "    <tr>\n",
       "      <th>18</th>\n",
       "      <td>683488</td>\n",
       "      <td>...And, while with silent lifting mind I've tr...</td>\n",
       "      <td>0.000000</td>\n",
       "    </tr>\n",
       "    <tr>\n",
       "      <th>36</th>\n",
       "      <td>5247774</td>\n",
       "      <td>They can't admit to being duped because that w...</td>\n",
       "      <td>0.300000</td>\n",
       "    </tr>\n",
       "    <tr>\n",
       "      <th>44</th>\n",
       "      <td>247863</td>\n",
       "      <td>The state ODEQ and the Health Authority cannot...</td>\n",
       "      <td>0.000000</td>\n",
       "    </tr>\n",
       "    <tr>\n",
       "      <th>59</th>\n",
       "      <td>384852</td>\n",
       "      <td>When a kid in Portland sees the drug dealers t...</td>\n",
       "      <td>0.000000</td>\n",
       "    </tr>\n",
       "    <tr>\n",
       "      <th>71</th>\n",
       "      <td>928120</td>\n",
       "      <td>I continue to be shocked that one person in a ...</td>\n",
       "      <td>0.000000</td>\n",
       "    </tr>\n",
       "    <tr>\n",
       "      <th>...</th>\n",
       "      <td>...</td>\n",
       "      <td>...</td>\n",
       "      <td>...</td>\n",
       "    </tr>\n",
       "    <tr>\n",
       "      <th>1777756</th>\n",
       "      <td>989779</td>\n",
       "      <td>Good job!</td>\n",
       "      <td>0.000000</td>\n",
       "    </tr>\n",
       "    <tr>\n",
       "      <th>1777763</th>\n",
       "      <td>675743</td>\n",
       "      <td>One animal control officer for a city the size...</td>\n",
       "      <td>0.000000</td>\n",
       "    </tr>\n",
       "    <tr>\n",
       "      <th>1777768</th>\n",
       "      <td>5126768</td>\n",
       "      <td>Fire Munoz. The pathetic United CEO originally...</td>\n",
       "      <td>0.166667</td>\n",
       "    </tr>\n",
       "    <tr>\n",
       "      <th>1777779</th>\n",
       "      <td>5694937</td>\n",
       "      <td>which one is this?\\nuday or qusay?</td>\n",
       "      <td>0.000000</td>\n",
       "    </tr>\n",
       "    <tr>\n",
       "      <th>1777780</th>\n",
       "      <td>6186853</td>\n",
       "      <td>As an atheist  I respect the right of people t...</td>\n",
       "      <td>0.600000</td>\n",
       "    </tr>\n",
       "  </tbody>\n",
       "</table>\n",
       "<p>177780 rows × 3 columns</p>\n",
       "</div>"
      ],
      "text/plain": [
       "              id                                       comment_text    target\n",
       "18        683488  ...And, while with silent lifting mind I've tr...  0.000000\n",
       "36       5247774  They can't admit to being duped because that w...  0.300000\n",
       "44        247863  The state ODEQ and the Health Authority cannot...  0.000000\n",
       "59        384852  When a kid in Portland sees the drug dealers t...  0.000000\n",
       "71        928120  I continue to be shocked that one person in a ...  0.000000\n",
       "...          ...                                                ...       ...\n",
       "1777756   989779                                          Good job!  0.000000\n",
       "1777763   675743  One animal control officer for a city the size...  0.000000\n",
       "1777768  5126768  Fire Munoz. The pathetic United CEO originally...  0.166667\n",
       "1777779  5694937                 which one is this?\\nuday or qusay?  0.000000\n",
       "1777780  6186853  As an atheist  I respect the right of people t...  0.600000\n",
       "\n",
       "[177780 rows x 3 columns]"
      ]
     },
     "execution_count": 157,
     "metadata": {},
     "output_type": "execute_result"
    }
   ],
   "source": [
    "df_test"
   ]
  },
  {
   "cell_type": "code",
   "execution_count": 160,
   "id": "1e6a1084-b821-409d-8464-2f5679f87b0d",
   "metadata": {},
   "outputs": [],
   "source": [
    "df_test.to_csv(\"test.csv\")"
   ]
  },
  {
   "cell_type": "code",
   "execution_count": 161,
   "id": "8ec98764-a0dd-4c64-b399-0d424d7d2b8c",
   "metadata": {},
   "outputs": [],
   "source": [
    "df_train.to_csv(\"train.csv\")"
   ]
  },
  {
   "cell_type": "code",
   "execution_count": 159,
   "id": "424a7407-8c99-4ff0-8fcf-336f66bb99b8",
   "metadata": {},
   "outputs": [
    {
     "data": {
      "text/html": [
       "<div>\n",
       "<style scoped>\n",
       "    .dataframe tbody tr th:only-of-type {\n",
       "        vertical-align: middle;\n",
       "    }\n",
       "\n",
       "    .dataframe tbody tr th {\n",
       "        vertical-align: top;\n",
       "    }\n",
       "\n",
       "    .dataframe thead th {\n",
       "        text-align: right;\n",
       "    }\n",
       "</style>\n",
       "<table border=\"1\" class=\"dataframe\">\n",
       "  <thead>\n",
       "    <tr style=\"text-align: right;\">\n",
       "      <th></th>\n",
       "      <th>id</th>\n",
       "      <th>comment_text</th>\n",
       "      <th>target</th>\n",
       "    </tr>\n",
       "  </thead>\n",
       "  <tbody>\n",
       "    <tr>\n",
       "      <th>0</th>\n",
       "      <td>5413656</td>\n",
       "      <td>???...You trying to hard...#MAGA</td>\n",
       "      <td>0.000000</td>\n",
       "    </tr>\n",
       "    <tr>\n",
       "      <th>1</th>\n",
       "      <td>267023</td>\n",
       "      <td>I am not speaking for myself. I pay for my own...</td>\n",
       "      <td>0.166667</td>\n",
       "    </tr>\n",
       "    <tr>\n",
       "      <th>2</th>\n",
       "      <td>5092377</td>\n",
       "      <td>bank of hawaii, first hawaiian bank, most land...</td>\n",
       "      <td>0.000000</td>\n",
       "    </tr>\n",
       "    <tr>\n",
       "      <th>3</th>\n",
       "      <td>723958</td>\n",
       "      <td>\"Trump on Friday night vowed to seek approval ...</td>\n",
       "      <td>0.000000</td>\n",
       "    </tr>\n",
       "    <tr>\n",
       "      <th>4</th>\n",
       "      <td>5571767</td>\n",
       "      <td>Right...so if the headlines instead read \"Clin...</td>\n",
       "      <td>0.000000</td>\n",
       "    </tr>\n",
       "    <tr>\n",
       "      <th>...</th>\n",
       "      <td>...</td>\n",
       "      <td>...</td>\n",
       "      <td>...</td>\n",
       "    </tr>\n",
       "    <tr>\n",
       "      <th>1777795</th>\n",
       "      <td>6252077</td>\n",
       "      <td>Your flip-flops are in the mail Billy!</td>\n",
       "      <td>0.000000</td>\n",
       "    </tr>\n",
       "    <tr>\n",
       "      <th>1777796</th>\n",
       "      <td>5358958</td>\n",
       "      <td>When I taught C language computer programming,...</td>\n",
       "      <td>0.000000</td>\n",
       "    </tr>\n",
       "    <tr>\n",
       "      <th>1777797</th>\n",
       "      <td>5287987</td>\n",
       "      <td>Trudeau justified by lying &amp; saying they were ...</td>\n",
       "      <td>0.200000</td>\n",
       "    </tr>\n",
       "    <tr>\n",
       "      <th>1777798</th>\n",
       "      <td>5129035</td>\n",
       "      <td>So i really want you to think about what you a...</td>\n",
       "      <td>0.000000</td>\n",
       "    </tr>\n",
       "    <tr>\n",
       "      <th>1777799</th>\n",
       "      <td>5601683</td>\n",
       "      <td>When they stop having NASCAR then I will belie...</td>\n",
       "      <td>0.000000</td>\n",
       "    </tr>\n",
       "  </tbody>\n",
       "</table>\n",
       "<p>1600020 rows × 3 columns</p>\n",
       "</div>"
      ],
      "text/plain": [
       "              id                                       comment_text    target\n",
       "0        5413656                   ???...You trying to hard...#MAGA  0.000000\n",
       "1         267023  I am not speaking for myself. I pay for my own...  0.166667\n",
       "2        5092377  bank of hawaii, first hawaiian bank, most land...  0.000000\n",
       "3         723958  \"Trump on Friday night vowed to seek approval ...  0.000000\n",
       "4        5571767  Right...so if the headlines instead read \"Clin...  0.000000\n",
       "...          ...                                                ...       ...\n",
       "1777795  6252077             Your flip-flops are in the mail Billy!  0.000000\n",
       "1777796  5358958  When I taught C language computer programming,...  0.000000\n",
       "1777797  5287987  Trudeau justified by lying & saying they were ...  0.200000\n",
       "1777798  5129035  So i really want you to think about what you a...  0.000000\n",
       "1777799  5601683  When they stop having NASCAR then I will belie...  0.000000\n",
       "\n",
       "[1600020 rows x 3 columns]"
      ]
     },
     "execution_count": 159,
     "metadata": {},
     "output_type": "execute_result"
    }
   ],
   "source": [
    "df_train = df.loc[sorted(train_index)]\n",
    "df_train"
   ]
  },
  {
   "cell_type": "code",
   "execution_count": 2,
   "id": "d2da87db-4f85-4bb0-aa92-3242ba7d19cd",
   "metadata": {},
   "outputs": [
    {
     "name": "stderr",
     "output_type": "stream",
     "text": [
      "/home/user/anaconda3/lib/python3.8/site-packages/transformers/tokenization_utils_base.py:1432: UserWarning: local_files_only is manually set to True for PreTrainedTokenizerBase.from_pretrained in ~/anaconda3/lib/python3.8/site-packages/transformers/tokenization_utils_base.py\n",
      "  warnings.warn(\"local_files_only is manually set to True for PreTrainedTokenizerBase.from_pretrained in ~/anaconda3/lib/python3.8/site-packages/transformers/tokenization_utils_base.py\")\n"
     ]
    }
   ],
   "source": [
    "from transformers import BertTokenizer\n",
    "tokenizer = BertTokenizer.from_pretrained(\"bert-base-uncased\")"
   ]
  },
  {
   "cell_type": "code",
   "execution_count": null,
   "id": "5924196f-6c6d-4f35-b042-9a73b768589f",
   "metadata": {
    "scrolled": true,
    "tags": []
   },
   "outputs": [
    {
     "name": "stderr",
     "output_type": "stream",
     "text": [
      "  6%|▌         | 104487/1777800 [01:36<24:45, 1126.43it/s]Token indices sequence length is longer than the specified maximum sequence length for this model (538 > 512). Running this sequence through the model will result in indexing errors\n",
      " 10%|▉         | 176357/1777800 [02:43<25:07, 1061.98it/s]"
     ]
    }
   ],
   "source": [
    "from tqdm import tqdm\n",
    "lengths = [len(tokenizer.encode(_)) for _ in tqdm(df['comment_text'])]"
   ]
  },
  {
   "cell_type": "code",
   "execution_count": null,
   "id": "556d60b2-ee64-48c1-911f-f2cb6c11f2c0",
   "metadata": {},
   "outputs": [],
   "source": [
    "max(lengths), min(lengths)"
   ]
  },
  {
   "cell_type": "code",
   "execution_count": 7,
   "id": "1d3fee7f-0ba1-4256-90da-6b4d77112ba4",
   "metadata": {},
   "outputs": [],
   "source": [
    "# the text length\n",
    "x = [i+1 for i in range(max(lengths))]\n",
    "y = [lengths.count(i) for i in x]"
   ]
  },
  {
   "cell_type": "code",
   "execution_count": 11,
   "id": "ec05bb4e-1ffa-4338-ad4e-1151d278d67f",
   "metadata": {},
   "outputs": [
    {
     "data": {
      "image/png": "[encoded data removed]",
      "text/plain": [
       "<Figure size 432x288 with 1 Axes>"
      ]
     },
     "metadata": {
      "needs_background": "light"
     },
     "output_type": "display_data"
    }
   ],
   "source": [
    "import matplotlib.pyplot as plt\n",
    "plt.plot(x[:300],y[:300])\n",
    "plt.xlabel(\"length of text\")\n",
    "plt.ylabel(\"number of text\")\n",
    "plt.savefig(\"trainset-PDF.png\")"
   ]
  },
  {
   "cell_type": "code",
   "execution_count": 9,
   "id": "ce11d086-03fd-4902-98b4-bd0d16a660f4",
   "metadata": {},
   "outputs": [
    {
     "data": {
      "image/png": "[encoded data removed]",
      "text/plain": [
       "<Figure size 432x288 with 1 Axes>"
      ]
     },
     "metadata": {
      "needs_background": "light"
     },
     "output_type": "display_data"
    }
   ],
   "source": [
    "import numpy as np\n",
    "plt.plot(x[:300],np.cumsum(y)[:300]/sum(y)*100)\n",
    "plt.xlabel(\"length of text\")\n",
    "plt.ylabel(\"cumulative number of text / %\")\n",
    "plt.savefig(\"trainset-CDF.png\")"
   ]
  },
  {
   "cell_type": "code",
   "execution_count": 10,
   "id": "145621eb-cdf7-4eb8-871f-cfac01f8a9d9",
   "metadata": {},
   "outputs": [
    {
     "data": {
      "text/plain": [
       "0.9461306108673642"
      ]
     },
     "execution_count": 10,
     "metadata": {},
     "output_type": "execute_result"
    }
   ],
   "source": [
    "np.cumsum(y)[200] / sum(y)"
   ]
  }
 ],
 "metadata": {
  "kernelspec": {
   "display_name": "Python 3",
   "language": "python",
   "name": "python3"
  },
  "language_info": {
   "codemirror_mode": {
    "name": "ipython",
    "version": 3
   },
   "file_extension": ".py",
   "mimetype": "text/x-python",
   "name": "python",
   "nbconvert_exporter": "python",
   "pygments_lexer": "ipython3",
   "version": "3.8.8"
  }
 },
 "nbformat": 4,
 "nbformat_minor": 5
}
